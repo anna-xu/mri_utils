{
 "cells": [
  {
   "cell_type": "code",
   "execution_count": 1,
   "metadata": {},
   "outputs": [],
   "source": [
    "from nilearn import datasets,surface,plotting\n",
    "import matplotlib.pyplot as plt\n",
    "import numpy as np\n",
    "import nibabel as nb\n",
    "import pandas as pd\n",
    "from nilearn.glm.first_level import FirstLevelModel\n",
    "from nilearn.glm import compute_fixed_effects\n",
    "import os \n",
    "\n",
    "import contrast_analyses"
   ]
  },
  {
   "cell_type": "code",
   "execution_count": null,
   "metadata": {},
   "outputs": [],
   "source": [
    "SCAN_DATA_DIR = 'motor_task_scan_data'\n",
    "EVENT_FILES_DIR = 'event_files/ds000224'"
   ]
  },
  {
   "cell_type": "markdown",
   "metadata": {},
   "source": [
    "# Create dictionary of file structure"
   ]
  },
  {
   "cell_type": "code",
   "execution_count": 37,
   "metadata": {},
   "outputs": [],
   "source": [
    "# example usage (extracted from event file directory)\n",
    "all_files_df = contrast_analyses.create_file_structure_dict(task_name = 'motor', \n",
    "                                          input_dir = EVENT_FILES_DIR)"
   ]
  },
  {
   "cell_type": "markdown",
   "metadata": {},
   "source": [
    "# Run analyses"
   ]
  },
  {
   "cell_type": "markdown",
   "metadata": {},
   "source": [
    "### Run-level task > baseline contrasts\n",
    "This will get the contrast (task>baseline) effect sizes across all runs for all subjects and sessions. The output is saved in a new folder named `average_contrast_maps`"
   ]
  },
  {
   "cell_type": "code",
   "execution_count": 56,
   "metadata": {},
   "outputs": [
    {
     "name": "stdout",
     "output_type": "stream",
     "text": [
      "Running contrast effects for sub MSC01, session func01, run 02\n",
      "Running contrast effects for sub MSC01, session func01, run 01\n"
     ]
    },
    {
     "name": "stderr",
     "output_type": "stream",
     "text": [
      "/opt/anaconda3/lib/python3.11/site-packages/nilearn/glm/first_level/first_level.py:707: UserWarning: Mean values of 0 observed. The data have probably been centered.Scaling might not work as expected\n",
      "  Y, _ = mean_scaling(Y, self.signal_scaling)\n"
     ]
    },
    {
     "name": "stdout",
     "output_type": "stream",
     "text": [
      "Running contrast effects for sub MSC01, session func02, run 01\n",
      "Running contrast effects for sub MSC01, session func02, run 02\n",
      "Running contrast effects for sub MSC01, session func03, run 02\n"
     ]
    },
    {
     "name": "stderr",
     "output_type": "stream",
     "text": [
      "/opt/anaconda3/lib/python3.11/site-packages/nilearn/glm/first_level/first_level.py:707: UserWarning: Mean values of 0 observed. The data have probably been centered.Scaling might not work as expected\n",
      "  Y, _ = mean_scaling(Y, self.signal_scaling)\n"
     ]
    },
    {
     "name": "stdout",
     "output_type": "stream",
     "text": [
      "Running contrast effects for sub MSC01, session func03, run 01\n"
     ]
    },
    {
     "name": "stderr",
     "output_type": "stream",
     "text": [
      "/opt/anaconda3/lib/python3.11/site-packages/nilearn/glm/first_level/first_level.py:707: UserWarning: Mean values of 0 observed. The data have probably been centered.Scaling might not work as expected\n",
      "  Y, _ = mean_scaling(Y, self.signal_scaling)\n"
     ]
    },
    {
     "name": "stdout",
     "output_type": "stream",
     "text": [
      "Running contrast effects for sub MSC01, session func04, run 02\n",
      "Running contrast effects for sub MSC01, session func04, run 01\n"
     ]
    },
    {
     "name": "stderr",
     "output_type": "stream",
     "text": [
      "/opt/anaconda3/lib/python3.11/site-packages/nilearn/glm/first_level/first_level.py:707: UserWarning: Mean values of 0 observed. The data have probably been centered.Scaling might not work as expected\n",
      "  Y, _ = mean_scaling(Y, self.signal_scaling)\n"
     ]
    },
    {
     "name": "stdout",
     "output_type": "stream",
     "text": [
      "Running contrast effects for sub MSC01, session func05, run 01\n",
      "Running contrast effects for sub MSC01, session func05, run 02\n",
      "Running contrast effects for sub MSC01, session func06, run 02\n",
      "Running contrast effects for sub MSC01, session func06, run 01\n"
     ]
    },
    {
     "name": "stderr",
     "output_type": "stream",
     "text": [
      "/opt/anaconda3/lib/python3.11/site-packages/nilearn/glm/first_level/first_level.py:707: UserWarning: Mean values of 0 observed. The data have probably been centered.Scaling might not work as expected\n",
      "  Y, _ = mean_scaling(Y, self.signal_scaling)\n"
     ]
    },
    {
     "name": "stdout",
     "output_type": "stream",
     "text": [
      "Running contrast effects for sub MSC01, session func07, run 01\n",
      "Running contrast effects for sub MSC01, session func07, run 02\n",
      "Running contrast effects for sub MSC01, session func08, run 01\n"
     ]
    },
    {
     "name": "stderr",
     "output_type": "stream",
     "text": [
      "/opt/anaconda3/lib/python3.11/site-packages/nilearn/glm/first_level/first_level.py:707: UserWarning: Mean values of 0 observed. The data have probably been centered.Scaling might not work as expected\n",
      "  Y, _ = mean_scaling(Y, self.signal_scaling)\n"
     ]
    },
    {
     "name": "stdout",
     "output_type": "stream",
     "text": [
      "Running contrast effects for sub MSC01, session func08, run 02\n",
      "Running contrast effects for sub MSC01, session func09, run 02\n",
      "Running contrast effects for sub MSC01, session func09, run 01\n",
      "Running contrast effects for sub MSC01, session func10, run 02\n",
      "Running contrast effects for sub MSC01, session func10, run 01\n"
     ]
    },
    {
     "name": "stderr",
     "output_type": "stream",
     "text": [
      "/opt/anaconda3/lib/python3.11/site-packages/nilearn/glm/first_level/first_level.py:707: UserWarning: Mean values of 0 observed. The data have probably been centered.Scaling might not work as expected\n",
      "  Y, _ = mean_scaling(Y, self.signal_scaling)\n"
     ]
    },
    {
     "name": "stdout",
     "output_type": "stream",
     "text": [
      "Running contrast effects for sub MSC02, session func01, run 01\n",
      "Running contrast effects for sub MSC02, session func01, run 02\n",
      "Running contrast effects for sub MSC02, session func02, run 02\n",
      "Running contrast effects for sub MSC02, session func02, run 01\n",
      "Running contrast effects for sub MSC02, session func03, run 01\n",
      "Running contrast effects for sub MSC02, session func03, run 02\n",
      "Running contrast effects for sub MSC02, session func04, run 01\n",
      "Running contrast effects for sub MSC02, session func04, run 02\n"
     ]
    },
    {
     "name": "stderr",
     "output_type": "stream",
     "text": [
      "/opt/anaconda3/lib/python3.11/site-packages/nilearn/glm/first_level/first_level.py:707: UserWarning: Mean values of 0 observed. The data have probably been centered.Scaling might not work as expected\n",
      "  Y, _ = mean_scaling(Y, self.signal_scaling)\n"
     ]
    },
    {
     "name": "stdout",
     "output_type": "stream",
     "text": [
      "Running contrast effects for sub MSC02, session func05, run 02\n"
     ]
    },
    {
     "name": "stderr",
     "output_type": "stream",
     "text": [
      "/opt/anaconda3/lib/python3.11/site-packages/nilearn/glm/first_level/first_level.py:707: UserWarning: Mean values of 0 observed. The data have probably been centered.Scaling might not work as expected\n",
      "  Y, _ = mean_scaling(Y, self.signal_scaling)\n"
     ]
    },
    {
     "name": "stdout",
     "output_type": "stream",
     "text": [
      "Running contrast effects for sub MSC02, session func05, run 01\n",
      "Running contrast effects for sub MSC02, session func06, run 01\n",
      "Running contrast effects for sub MSC02, session func06, run 02\n",
      "Running contrast effects for sub MSC02, session func07, run 02\n",
      "Running contrast effects for sub MSC02, session func07, run 01\n",
      "Running contrast effects for sub MSC02, session func08, run 02\n",
      "Running contrast effects for sub MSC02, session func08, run 01\n",
      "Running contrast effects for sub MSC02, session func09, run 01\n",
      "Running contrast effects for sub MSC02, session func09, run 02\n",
      "Running contrast effects for sub MSC02, session func10, run 01\n"
     ]
    },
    {
     "name": "stderr",
     "output_type": "stream",
     "text": [
      "/opt/anaconda3/lib/python3.11/site-packages/nilearn/glm/first_level/first_level.py:707: UserWarning: Mean values of 0 observed. The data have probably been centered.Scaling might not work as expected\n",
      "  Y, _ = mean_scaling(Y, self.signal_scaling)\n"
     ]
    },
    {
     "name": "stdout",
     "output_type": "stream",
     "text": [
      "Running contrast effects for sub MSC02, session func10, run 02\n"
     ]
    },
    {
     "name": "stderr",
     "output_type": "stream",
     "text": [
      "/opt/anaconda3/lib/python3.11/site-packages/nilearn/glm/first_level/first_level.py:707: UserWarning: Mean values of 0 observed. The data have probably been centered.Scaling might not work as expected\n",
      "  Y, _ = mean_scaling(Y, self.signal_scaling)\n"
     ]
    },
    {
     "name": "stdout",
     "output_type": "stream",
     "text": [
      "Running contrast effects for sub MSC03, session func01, run 01\n",
      "Running contrast effects for sub MSC03, session func01, run 02\n",
      "Running contrast effects for sub MSC03, session func02, run 02\n",
      "Running contrast effects for sub MSC03, session func02, run 01\n",
      "Running contrast effects for sub MSC03, session func03, run 01\n",
      "Running contrast effects for sub MSC03, session func03, run 02\n",
      "Running contrast effects for sub MSC03, session func04, run 01\n",
      "Running contrast effects for sub MSC03, session func04, run 02\n",
      "Running contrast effects for sub MSC03, session func05, run 02\n",
      "Running contrast effects for sub MSC03, session func05, run 01\n",
      "Running contrast effects for sub MSC03, session func06, run 01\n",
      "Running contrast effects for sub MSC03, session func06, run 02\n",
      "Running contrast effects for sub MSC03, session func07, run 02\n",
      "Running contrast effects for sub MSC03, session func07, run 01\n",
      "Running contrast effects for sub MSC03, session func08, run 02\n",
      "Running contrast effects for sub MSC03, session func08, run 01\n",
      "Running contrast effects for sub MSC03, session func09, run 01\n",
      "Running contrast effects for sub MSC03, session func09, run 02\n",
      "Running contrast effects for sub MSC03, session func10, run 01\n",
      "Running contrast effects for sub MSC03, session func10, run 02\n",
      "Running contrast effects for sub MSC04, session func01, run 02\n",
      "Running contrast effects for sub MSC04, session func01, run 01\n",
      "Running contrast effects for sub MSC04, session func02, run 01\n",
      "Running contrast effects for sub MSC04, session func02, run 02\n",
      "Running contrast effects for sub MSC04, session func03, run 02\n",
      "Running contrast effects for sub MSC04, session func03, run 01\n",
      "Running contrast effects for sub MSC04, session func04, run 02\n",
      "Running contrast effects for sub MSC04, session func04, run 01\n",
      "Running contrast effects for sub MSC04, session func05, run 01\n",
      "Running contrast effects for sub MSC04, session func05, run 02\n",
      "Running contrast effects for sub MSC04, session func06, run 02\n",
      "Running contrast effects for sub MSC04, session func06, run 01\n",
      "Running contrast effects for sub MSC04, session func07, run 01\n",
      "Running contrast effects for sub MSC04, session func07, run 02\n",
      "Running contrast effects for sub MSC04, session func08, run 01\n",
      "Running contrast effects for sub MSC04, session func08, run 02\n",
      "Running contrast effects for sub MSC04, session func09, run 02\n",
      "Running contrast effects for sub MSC04, session func09, run 01\n",
      "Running contrast effects for sub MSC04, session func10, run 02\n",
      "Running contrast effects for sub MSC04, session func10, run 01\n",
      "Running contrast effects for sub MSC05, session func01, run 02\n",
      "Running contrast effects for sub MSC05, session func01, run 01\n",
      "Running contrast effects for sub MSC05, session func02, run 01\n",
      "Running contrast effects for sub MSC05, session func02, run 02\n",
      "Running contrast effects for sub MSC05, session func03, run 02\n",
      "Running contrast effects for sub MSC05, session func03, run 01\n",
      "Running contrast effects for sub MSC05, session func04, run 02\n",
      "Running contrast effects for sub MSC05, session func04, run 01\n",
      "Running contrast effects for sub MSC05, session func05, run 01\n",
      "Running contrast effects for sub MSC05, session func05, run 02\n",
      "Running contrast effects for sub MSC05, session func06, run 02\n",
      "Running contrast effects for sub MSC05, session func06, run 01\n",
      "Running contrast effects for sub MSC05, session func07, run 01\n",
      "Running contrast effects for sub MSC05, session func07, run 02\n",
      "Running contrast effects for sub MSC05, session func08, run 01\n",
      "Running contrast effects for sub MSC05, session func08, run 02\n",
      "Running contrast effects for sub MSC05, session func09, run 02\n",
      "Running contrast effects for sub MSC05, session func09, run 01\n",
      "Running contrast effects for sub MSC05, session func10, run 02\n",
      "Running contrast effects for sub MSC05, session func10, run 01\n",
      "Running contrast effects for sub MSC06, session func01, run 01\n",
      "Running contrast effects for sub MSC06, session func01, run 02\n",
      "Running contrast effects for sub MSC06, session func02, run 02\n",
      "Running contrast effects for sub MSC06, session func02, run 01\n",
      "Running contrast effects for sub MSC06, session func03, run 01\n",
      "Running contrast effects for sub MSC06, session func03, run 02\n",
      "Running contrast effects for sub MSC06, session func04, run 01\n",
      "Running contrast effects for sub MSC06, session func04, run 02\n",
      "Running contrast effects for sub MSC06, session func05, run 02\n",
      "Running contrast effects for sub MSC06, session func05, run 01\n",
      "Running contrast effects for sub MSC06, session func06, run 01\n",
      "Running contrast effects for sub MSC06, session func06, run 02\n",
      "Running contrast effects for sub MSC06, session func07, run 02\n",
      "Running contrast effects for sub MSC06, session func07, run 01\n",
      "Running contrast effects for sub MSC06, session func08, run 02\n",
      "Running contrast effects for sub MSC06, session func08, run 01\n",
      "Running contrast effects for sub MSC06, session func09, run 01\n",
      "Running contrast effects for sub MSC06, session func09, run 02\n",
      "Running contrast effects for sub MSC06, session func10, run 01\n",
      "Running contrast effects for sub MSC06, session func10, run 02\n",
      "Running contrast effects for sub MSC07, session func01, run 01\n",
      "Running contrast effects for sub MSC07, session func01, run 02\n",
      "Running contrast effects for sub MSC07, session func02, run 02\n",
      "Running contrast effects for sub MSC07, session func02, run 01\n",
      "Running contrast effects for sub MSC07, session func03, run 01\n",
      "Running contrast effects for sub MSC07, session func03, run 02\n",
      "Running contrast effects for sub MSC07, session func04, run 01\n",
      "Running contrast effects for sub MSC07, session func04, run 02\n",
      "Running contrast effects for sub MSC07, session func05, run 02\n",
      "Running contrast effects for sub MSC07, session func05, run 01\n",
      "Running contrast effects for sub MSC07, session func06, run 01\n",
      "Running contrast effects for sub MSC07, session func06, run 02\n",
      "Running contrast effects for sub MSC07, session func07, run 02\n",
      "Running contrast effects for sub MSC07, session func07, run 01\n",
      "Running contrast effects for sub MSC07, session func08, run 02\n",
      "Running contrast effects for sub MSC07, session func08, run 01\n",
      "Running contrast effects for sub MSC07, session func09, run 01\n",
      "Running contrast effects for sub MSC07, session func09, run 02\n",
      "Running contrast effects for sub MSC07, session func10, run 01\n",
      "Running contrast effects for sub MSC07, session func10, run 02\n",
      "Running contrast effects for sub MSC08, session func01, run 02\n",
      "Running contrast effects for sub MSC08, session func01, run 01\n",
      "Running contrast effects for sub MSC08, session func02, run 01\n",
      "Running contrast effects for sub MSC08, session func02, run 02\n",
      "Running contrast effects for sub MSC08, session func03, run 02\n",
      "Running contrast effects for sub MSC08, session func03, run 01\n",
      "Running contrast effects for sub MSC08, session func04, run 02\n",
      "Running contrast effects for sub MSC08, session func04, run 01\n",
      "Running contrast effects for sub MSC08, session func05, run 01\n",
      "Running contrast effects for sub MSC08, session func05, run 02\n",
      "Running contrast effects for sub MSC08, session func06, run 02\n",
      "Running contrast effects for sub MSC08, session func06, run 01\n",
      "Running contrast effects for sub MSC08, session func07, run 01\n",
      "Running contrast effects for sub MSC08, session func07, run 02\n",
      "Running contrast effects for sub MSC08, session func08, run 01\n",
      "Running contrast effects for sub MSC08, session func08, run 02\n",
      "Running contrast effects for sub MSC08, session func09, run 02\n",
      "Running contrast effects for sub MSC08, session func09, run 01\n",
      "Running contrast effects for sub MSC08, session func10, run 02\n",
      "Running contrast effects for sub MSC08, session func10, run 01\n",
      "Running contrast effects for sub MSC09, session func01, run 02\n",
      "Running contrast effects for sub MSC09, session func01, run 01\n",
      "Running contrast effects for sub MSC09, session func02, run 01\n",
      "Running contrast effects for sub MSC09, session func02, run 02\n",
      "Running contrast effects for sub MSC09, session func03, run 02\n",
      "Running contrast effects for sub MSC09, session func03, run 01\n",
      "Running contrast effects for sub MSC09, session func04, run 02\n",
      "Running contrast effects for sub MSC09, session func04, run 01\n",
      "Running contrast effects for sub MSC09, session func05, run 01\n",
      "Running contrast effects for sub MSC09, session func05, run 02\n",
      "Running contrast effects for sub MSC09, session func06, run 02\n",
      "Running contrast effects for sub MSC09, session func06, run 01\n",
      "Running contrast effects for sub MSC09, session func07, run 01\n",
      "Running contrast effects for sub MSC09, session func07, run 02\n",
      "Running contrast effects for sub MSC09, session func08, run 01\n",
      "Running contrast effects for sub MSC09, session func08, run 02\n",
      "Running contrast effects for sub MSC09, session func09, run 02\n",
      "Running contrast effects for sub MSC09, session func09, run 01\n",
      "Running contrast effects for sub MSC09, session func10, run 02\n",
      "Running contrast effects for sub MSC09, session func10, run 01\n"
     ]
    },
    {
     "data": {
      "text/plain": [
       "array(['LFoot vs baseline', 'LHand vs baseline', 'RFoot vs baseline',\n",
       "       'RHand vs baseline', 'Tongue vs baseline'], dtype='<U18')"
      ]
     },
     "execution_count": 56,
     "metadata": {},
     "output_type": "execute_result"
    }
   ],
   "source": [
    "# run contrasts for all runs in all subjects and sessions\n",
    "all_contrasts = []\n",
    "\n",
    "for i,run in enumerate(all_files_df['run'].values):\n",
    "    sub = all_files_df['sub'].iloc[i]\n",
    "    ses = all_files_df['ses'].iloc[i]\n",
    "    task = all_files_df['task'].iloc[i]\n",
    "    run = all_files_df['run'].iloc[i]\n",
    "\n",
    "    if run != 'no run':\n",
    "        bold_file = f'{SCAN_DATA_DIR}/sub-{sub}_ses-{ses}_task-{task}_run-{run}_space-MNI152NLin2009cAsym_res-2_desc-preproc_bold.nii.gz'\n",
    "        event_file = f'{EVENT_FILES_DIR}/sub-{sub}/ses-{ses}/func/sub-{sub}_ses-{ses}_task-{task}_run-{run}_events.tsv'\n",
    "    else: \n",
    "        bold_file = f'{SCAN_DATA_DIR}/sub-{sub}_ses-{ses}_task-{task}_space-MNI152NLin2009cAsym_res-2_desc-preproc_bold.nii.gz'\n",
    "        event_file = f'{EVENT_FILES_DIR}/sub-{sub}/ses-{ses}/func/sub-{sub}_ses-{ses}_task-{task}_events.tsv'\n",
    "\n",
    "    all_contrasts = contrast_analyses.run_task_baseline_contrasts(bold_file, event_file, sub, ses, task, run)\n",
    "    \n",
    "    all_contrasts += all_contrasts\n",
    "\n",
    "# also get the unique contrast names b/c we'll be using it for the next analyses\n",
    "all_contrasts = np.array(all_contrasts)\n",
    "all_contrasts = np.unique(all_contrasts)\n",
    "all_contrasts"
   ]
  },
  {
   "cell_type": "markdown",
   "metadata": {},
   "source": [
    "### Session-level effect sizes\n",
    "\n",
    "This will average the effect sizes for all runs within a session, for all sessions and subjects. The output is saved in a new folder called `session_contrast_maps`"
   ]
  },
  {
   "cell_type": "code",
   "execution_count": 74,
   "metadata": {},
   "outputs": [
    {
     "name": "stdout",
     "output_type": "stream",
     "text": [
      "Running contrast average effects for contrast LFoot vs baseline, session func01\n",
      "Running contrast average effects for contrast LFoot vs baseline, session func01\n",
      "Running contrast average effects for contrast LFoot vs baseline, session func02\n",
      "Running contrast average effects for contrast LFoot vs baseline, session func02\n",
      "Running contrast average effects for contrast LFoot vs baseline, session func03\n",
      "Running contrast average effects for contrast LFoot vs baseline, session func03\n",
      "Running contrast average effects for contrast LFoot vs baseline, session func04\n",
      "Running contrast average effects for contrast LFoot vs baseline, session func04\n",
      "Running contrast average effects for contrast LFoot vs baseline, session func05\n",
      "Running contrast average effects for contrast LFoot vs baseline, session func05\n",
      "Running contrast average effects for contrast LFoot vs baseline, session func06\n",
      "Running contrast average effects for contrast LFoot vs baseline, session func06\n",
      "Running contrast average effects for contrast LFoot vs baseline, session func07\n",
      "Running contrast average effects for contrast LFoot vs baseline, session func07\n",
      "Running contrast average effects for contrast LFoot vs baseline, session func08\n",
      "Running contrast average effects for contrast LFoot vs baseline, session func08\n",
      "Running contrast average effects for contrast LFoot vs baseline, session func09\n",
      "Running contrast average effects for contrast LFoot vs baseline, session func09\n",
      "Running contrast average effects for contrast LFoot vs baseline, session func10\n",
      "Running contrast average effects for contrast LFoot vs baseline, session func10\n",
      "Running contrast average effects for contrast LHand vs baseline, session func01\n",
      "Running contrast average effects for contrast LHand vs baseline, session func01\n",
      "Running contrast average effects for contrast LHand vs baseline, session func02\n",
      "Running contrast average effects for contrast LHand vs baseline, session func02\n",
      "Running contrast average effects for contrast LHand vs baseline, session func03\n",
      "Running contrast average effects for contrast LHand vs baseline, session func03\n",
      "Running contrast average effects for contrast LHand vs baseline, session func04\n",
      "Running contrast average effects for contrast LHand vs baseline, session func04\n",
      "Running contrast average effects for contrast LHand vs baseline, session func05\n",
      "Running contrast average effects for contrast LHand vs baseline, session func05\n",
      "Running contrast average effects for contrast LHand vs baseline, session func06\n",
      "Running contrast average effects for contrast LHand vs baseline, session func06\n",
      "Running contrast average effects for contrast LHand vs baseline, session func07\n",
      "Running contrast average effects for contrast LHand vs baseline, session func07\n",
      "Running contrast average effects for contrast LHand vs baseline, session func08\n",
      "Running contrast average effects for contrast LHand vs baseline, session func08\n",
      "Running contrast average effects for contrast LHand vs baseline, session func09\n",
      "Running contrast average effects for contrast LHand vs baseline, session func09\n",
      "Running contrast average effects for contrast LHand vs baseline, session func10\n",
      "Running contrast average effects for contrast LHand vs baseline, session func10\n",
      "Running contrast average effects for contrast RFoot vs baseline, session func01\n",
      "Running contrast average effects for contrast RFoot vs baseline, session func01\n",
      "Running contrast average effects for contrast RFoot vs baseline, session func02\n",
      "Running contrast average effects for contrast RFoot vs baseline, session func02\n",
      "Running contrast average effects for contrast RFoot vs baseline, session func03\n",
      "Running contrast average effects for contrast RFoot vs baseline, session func03\n",
      "Running contrast average effects for contrast RFoot vs baseline, session func04\n",
      "Running contrast average effects for contrast RFoot vs baseline, session func04\n",
      "Running contrast average effects for contrast RFoot vs baseline, session func05\n",
      "Running contrast average effects for contrast RFoot vs baseline, session func05\n",
      "Running contrast average effects for contrast RFoot vs baseline, session func06\n",
      "Running contrast average effects for contrast RFoot vs baseline, session func06\n",
      "Running contrast average effects for contrast RFoot vs baseline, session func07\n",
      "Running contrast average effects for contrast RFoot vs baseline, session func07\n",
      "Running contrast average effects for contrast RFoot vs baseline, session func08\n",
      "Running contrast average effects for contrast RFoot vs baseline, session func08\n",
      "Running contrast average effects for contrast RFoot vs baseline, session func09\n",
      "Running contrast average effects for contrast RFoot vs baseline, session func09\n",
      "Running contrast average effects for contrast RFoot vs baseline, session func10\n",
      "Running contrast average effects for contrast RFoot vs baseline, session func10\n",
      "Running contrast average effects for contrast RHand vs baseline, session func01\n",
      "Running contrast average effects for contrast RHand vs baseline, session func01\n",
      "Running contrast average effects for contrast RHand vs baseline, session func02\n",
      "Running contrast average effects for contrast RHand vs baseline, session func02\n",
      "Running contrast average effects for contrast RHand vs baseline, session func03\n",
      "Running contrast average effects for contrast RHand vs baseline, session func03\n",
      "Running contrast average effects for contrast RHand vs baseline, session func04\n",
      "Running contrast average effects for contrast RHand vs baseline, session func04\n",
      "Running contrast average effects for contrast RHand vs baseline, session func05\n",
      "Running contrast average effects for contrast RHand vs baseline, session func05\n",
      "Running contrast average effects for contrast RHand vs baseline, session func06\n",
      "Running contrast average effects for contrast RHand vs baseline, session func06\n",
      "Running contrast average effects for contrast RHand vs baseline, session func07\n",
      "Running contrast average effects for contrast RHand vs baseline, session func07\n",
      "Running contrast average effects for contrast RHand vs baseline, session func08\n",
      "Running contrast average effects for contrast RHand vs baseline, session func08\n",
      "Running contrast average effects for contrast RHand vs baseline, session func09\n",
      "Running contrast average effects for contrast RHand vs baseline, session func09\n",
      "Running contrast average effects for contrast RHand vs baseline, session func10\n",
      "Running contrast average effects for contrast RHand vs baseline, session func10\n",
      "Running contrast average effects for contrast Tongue vs baseline, session func01\n",
      "Running contrast average effects for contrast Tongue vs baseline, session func01\n",
      "Running contrast average effects for contrast Tongue vs baseline, session func02\n",
      "Running contrast average effects for contrast Tongue vs baseline, session func02\n",
      "Running contrast average effects for contrast Tongue vs baseline, session func03\n",
      "Running contrast average effects for contrast Tongue vs baseline, session func03\n",
      "Running contrast average effects for contrast Tongue vs baseline, session func04\n",
      "Running contrast average effects for contrast Tongue vs baseline, session func04\n",
      "Running contrast average effects for contrast Tongue vs baseline, session func05\n",
      "Running contrast average effects for contrast Tongue vs baseline, session func05\n",
      "Running contrast average effects for contrast Tongue vs baseline, session func06\n",
      "Running contrast average effects for contrast Tongue vs baseline, session func06\n",
      "Running contrast average effects for contrast Tongue vs baseline, session func07\n",
      "Running contrast average effects for contrast Tongue vs baseline, session func07\n",
      "Running contrast average effects for contrast Tongue vs baseline, session func08\n",
      "Running contrast average effects for contrast Tongue vs baseline, session func08\n",
      "Running contrast average effects for contrast Tongue vs baseline, session func09\n",
      "Running contrast average effects for contrast Tongue vs baseline, session func09\n",
      "Running contrast average effects for contrast Tongue vs baseline, session func10\n",
      "Running contrast average effects for contrast Tongue vs baseline, session func10\n"
     ]
    }
   ],
   "source": [
    "NUM_SESSIONS = 10\n",
    "\n",
    "# session-level (use all_contrasts to obtain the unique contrast names)\n",
    "\n",
    "all_files_df['new_run'] = all_files_df['run']\n",
    "for i,df_run in enumerate(all_files_df['run'].values):\n",
    "    if df_run == 'no run':\n",
    "        all_files_df['new_run'].iloc[i] = '00'\n",
    "\n",
    "for con_name in all_contrasts:\n",
    "    for session in np.arange(1,NUM_SESSIONS+1,1):\n",
    "        if session >= 10:\n",
    "            ses = f'func{session}'\n",
    "        else:\n",
    "            ses = f'func0{session}'\n",
    "        for run in np.unique(all_files_df['new_run'].values):\n",
    "            contrast_analyses.run_session_fe(con_name, ses, run, np.unique(np.array(all_files_df['sub'].values)))"
   ]
  },
  {
   "cell_type": "markdown",
   "metadata": {},
   "source": [
    "### Contrast-level maps\n",
    "Finally, this will save an average effect size for a contrast (task > baseline) across all sessions. The output is saved in `average_contrast_maps`."
   ]
  },
  {
   "cell_type": "code",
   "execution_count": 78,
   "metadata": {},
   "outputs": [
    {
     "name": "stdout",
     "output_type": "stream",
     "text": [
      "Running contrast average effects for contrast LFoot vs baseline\n",
      "Running contrast average effects for contrast LHand vs baseline\n",
      "Running contrast average effects for contrast RFoot vs baseline\n",
      "Running contrast average effects for contrast RHand vs baseline\n",
      "Running contrast average effects for contrast Tongue vs baseline\n"
     ]
    }
   ],
   "source": [
    "for con_name in all_contrasts:\n",
    "    contrast_analyses.run_contrast_effects(con_name)"
   ]
  }
 ],
 "metadata": {
  "kernelspec": {
   "display_name": "base",
   "language": "python",
   "name": "python3"
  },
  "language_info": {
   "codemirror_mode": {
    "name": "ipython",
    "version": 3
   },
   "file_extension": ".py",
   "mimetype": "text/x-python",
   "name": "python",
   "nbconvert_exporter": "python",
   "pygments_lexer": "ipython3",
   "version": "3.11.7"
  }
 },
 "nbformat": 4,
 "nbformat_minor": 2
}
